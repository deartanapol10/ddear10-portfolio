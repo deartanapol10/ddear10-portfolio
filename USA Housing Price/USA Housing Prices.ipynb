{
 "cells": [
  {
   "cell_type": "markdown",
   "metadata": {},
   "source": [
    "# Predicting USA Housing Prices\n",
    "\n",
    "สำหรับโปรเจคนี้ ซึ่งเป็นโปรเจคแรกของผม ผมได้ฝึกทำ Model สำหรับ Predict ข้อมูล โดยใช้ Linear Regression\n",
    "\n",
    "ผมได้นำเอาฐานข้อมูลมาจาก Online Course ที่ลงเรียนเอาไว้ ซึ่งก็คือ Python for Data Science and Machine Learning Bootcamp\n",
    "\n",
    "\n",
    "โดยเป็นฐานข้อมูลเกี่ยวกับข้อมูลบ้านพักในระแวกหนึ่งของสหรัฐอเมริกา โดยมี features ดังต่อไปนี้\n",
    "\n",
    "1. 'Avg. Area Income' : รายได้เฉลี่ยของผู้ที่พักอาศัยในย่านนั้น\n",
    "2. 'Avg. Area House Age' : อายุโดยเฉลี่ยของบ้านพักในย่านนั้น\n",
    "3. 'Avg. Area Number of Rooms' : จำนวนห้องทั้งหมดโดยเฉลี่ยของบ้านพักในย่านนั้น\n",
    "4. 'Avg. Area Number of Bedrooms' : จำนวนห้องนอนโดยเฉลี่ยของบ้านพักในย่านนั้น\n",
    "5. 'Area Population' : จำนวนประชากรในย่านนั้น\n",
    "6. 'Price' : ราคาขายของบ้านหลังหนึ่งในย่านนั้น\n",
    "7. 'Address' : ที่อยู่ของบ้านหลังหนึ่งในย่านนั้น\n",
    "\n",
    "\n",
    "หลังจากที่ได้ทราบรายละเอียดโดยรวมของฐานข้อมูลนี้แล้ว ก็เข้าสู้ขั้นตอนของการตั้งคำถาม โดยคำถามมีอยู่ 2 ข้อดังนี้\n",
    "\n",
    "1. feature หรือปัจจัยต่างๆเหล่านี้ มีผลมากน้อยต่อ feature Price เพียงใด?\n",
    "2. ถ้าเราต้องการซื้อบ้านหรือขายบ้านหลังหนึ่งในอเมริกา โดยที่เราทราบรายละเอียดของบ้านทั้งหมด เราจะตั้งราคาขายอย่างไรให้เหมาะสม?\n",
    "\n",
    "เมื่อทราบคำถามที่อยากจะรู้แล้ว ก็เข้าสู่ขั้นตอนการหาคำตอบได้เลย !"
   ]
  },
  {
   "cell_type": "markdown",
   "metadata": {},
   "source": [
    "## Import Libraries\n",
    "โดย Libraries ที่ผมใช้ได้แก่\n",
    "\n",
    "* pandas : เป็น library หลักในโปรเจคนี้ ที่ใช้สำหรับการทำ Data Analysis https://pandas.pydata.org/\n",
    "* matplotlib : เป็น library หลักสำหรับการสร้าง graph และทำ Data Visualization https://matplotlib.org/\n",
    "* seaborn : เป็น libraby ที่คล้ายคลึงกับ matplotlib โดยในความคิดของผม seaborn จะ visualize ข้อมูลออกมาได้สวยงามและอ่านได้ง่ายกว่า matplotlib https://seaborn.pydata.org/"
   ]
  },
  {
   "cell_type": "code",
   "execution_count": 1,
   "metadata": {
    "collapsed": true
   },
   "outputs": [],
   "source": [
    "import pandas as pd\n",
    "import matplotlib.pyplot as plt\n",
    "import seaborn as sns\n",
    "%matplotlib inline"
   ]
  },
  {
   "cell_type": "markdown",
   "metadata": {},
   "source": [
    "## Import the Data\n",
    "ทำการนำเข้าฐานข้อมูล USA_Housing ซึ่งเป็นไฟล์นามสกุล csv (สามารถใช้ MS Excel เรียกดูได้)"
   ]
  },
  {
   "cell_type": "code",
   "execution_count": 2,
   "metadata": {},
   "outputs": [],
   "source": [
    "house_df = pd.read_csv('USA_Housing.csv')"
   ]
  },
  {
   "cell_type": "markdown",
   "metadata": {},
   "source": [
    "หลังจากนั้นทำการสุ่มตรวจเช็คข้อมูลว่า เพื่อเช็คว่าไฟล์ที่ถูกอ่านเข้ามานั้นอ่านสำเร็จหรือไม่ โดยสามารถตรวจเช็ควิธีอื่นๆได้ เช่น\n",
    ">house_df.head()  # จะทำการหยิบข้อมูลจาก row บนสุดขึ้นมา\n",
    "\n",
    ">house_df.tail() # จะทำการหยิบข้อมูลจาก row ล่างสุดขึ้นมา\n"
   ]
  },
  {
   "cell_type": "code",
   "execution_count": 3,
   "metadata": {},
   "outputs": [
    {
     "data": {
      "text/html": [
       "<div>\n",
       "<style scoped>\n",
       "    .dataframe tbody tr th:only-of-type {\n",
       "        vertical-align: middle;\n",
       "    }\n",
       "\n",
       "    .dataframe tbody tr th {\n",
       "        vertical-align: top;\n",
       "    }\n",
       "\n",
       "    .dataframe thead th {\n",
       "        text-align: right;\n",
       "    }\n",
       "</style>\n",
       "<table border=\"1\" class=\"dataframe\">\n",
       "  <thead>\n",
       "    <tr style=\"text-align: right;\">\n",
       "      <th></th>\n",
       "      <th>Avg. Area Income</th>\n",
       "      <th>Avg. Area House Age</th>\n",
       "      <th>Avg. Area Number of Rooms</th>\n",
       "      <th>Avg. Area Number of Bedrooms</th>\n",
       "      <th>Area Population</th>\n",
       "      <th>Price</th>\n",
       "      <th>Address</th>\n",
       "    </tr>\n",
       "  </thead>\n",
       "  <tbody>\n",
       "    <tr>\n",
       "      <th>531</th>\n",
       "      <td>67972.630085</td>\n",
       "      <td>5.496668</td>\n",
       "      <td>6.337286</td>\n",
       "      <td>3.22</td>\n",
       "      <td>27865.330786</td>\n",
       "      <td>9.112022e+05</td>\n",
       "      <td>8689 Nathan Cape Suite 323\\nDavidshire, AR 24822</td>\n",
       "    </tr>\n",
       "    <tr>\n",
       "      <th>1149</th>\n",
       "      <td>79097.134002</td>\n",
       "      <td>5.873084</td>\n",
       "      <td>8.007305</td>\n",
       "      <td>5.09</td>\n",
       "      <td>43950.662380</td>\n",
       "      <td>1.770617e+06</td>\n",
       "      <td>PSC 4708, Box 5599\\nAPO AA 90727</td>\n",
       "    </tr>\n",
       "    <tr>\n",
       "      <th>3039</th>\n",
       "      <td>60285.606172</td>\n",
       "      <td>5.142415</td>\n",
       "      <td>9.916528</td>\n",
       "      <td>3.14</td>\n",
       "      <td>27370.185718</td>\n",
       "      <td>1.273554e+06</td>\n",
       "      <td>537 Samantha Greens\\nAvilaton, PA 17089-7225</td>\n",
       "    </tr>\n",
       "    <tr>\n",
       "      <th>2275</th>\n",
       "      <td>85522.891079</td>\n",
       "      <td>6.020779</td>\n",
       "      <td>9.024116</td>\n",
       "      <td>4.37</td>\n",
       "      <td>49257.851103</td>\n",
       "      <td>2.009938e+06</td>\n",
       "      <td>494 Kathleen Route Apt. 078\\nEast Tracichester...</td>\n",
       "    </tr>\n",
       "  </tbody>\n",
       "</table>\n",
       "</div>"
      ],
      "text/plain": [
       "      Avg. Area Income  Avg. Area House Age  Avg. Area Number of Rooms  \\\n",
       "531       67972.630085             5.496668                   6.337286   \n",
       "1149      79097.134002             5.873084                   8.007305   \n",
       "3039      60285.606172             5.142415                   9.916528   \n",
       "2275      85522.891079             6.020779                   9.024116   \n",
       "\n",
       "      Avg. Area Number of Bedrooms  Area Population         Price  \\\n",
       "531                           3.22     27865.330786  9.112022e+05   \n",
       "1149                          5.09     43950.662380  1.770617e+06   \n",
       "3039                          3.14     27370.185718  1.273554e+06   \n",
       "2275                          4.37     49257.851103  2.009938e+06   \n",
       "\n",
       "                                                Address  \n",
       "531    8689 Nathan Cape Suite 323\\nDavidshire, AR 24822  \n",
       "1149                   PSC 4708, Box 5599\\nAPO AA 90727  \n",
       "3039       537 Samantha Greens\\nAvilaton, PA 17089-7225  \n",
       "2275  494 Kathleen Route Apt. 078\\nEast Tracichester...  "
      ]
     },
     "execution_count": 3,
     "metadata": {},
     "output_type": "execute_result"
    }
   ],
   "source": [
    "house_df.sample(4)"
   ]
  },
  {
   "cell_type": "markdown",
   "metadata": {},
   "source": [
    "หลังจากนั้นทำการตรวจเช็คข้อมูลทั้งหมดเพื่อดูว่ามี feature ไหน ที่มีข้อมูลหายไปหรือไม่(Missing Data)\n",
    "\n",
    "ซึ่งโชคดี เพราะว่าข้อมูลทั้งหมดนั้นสมบูรณ์เรียบร้อยดี !"
   ]
  },
  {
   "cell_type": "code",
   "execution_count": 4,
   "metadata": {
    "scrolled": true
   },
   "outputs": [
    {
     "name": "stdout",
     "output_type": "stream",
     "text": [
      "<class 'pandas.core.frame.DataFrame'>\n",
      "RangeIndex: 5000 entries, 0 to 4999\n",
      "Data columns (total 7 columns):\n",
      "Avg. Area Income                5000 non-null float64\n",
      "Avg. Area House Age             5000 non-null float64\n",
      "Avg. Area Number of Rooms       5000 non-null float64\n",
      "Avg. Area Number of Bedrooms    5000 non-null float64\n",
      "Area Population                 5000 non-null float64\n",
      "Price                           5000 non-null float64\n",
      "Address                         5000 non-null object\n",
      "dtypes: float64(6), object(1)\n",
      "memory usage: 253.9+ KB\n"
     ]
    }
   ],
   "source": [
    "house_df.info()"
   ]
  },
  {
   "cell_type": "markdown",
   "metadata": {},
   "source": [
    "# Statistical Information"
   ]
  },
  {
   "cell_type": "markdown",
   "metadata": {},
   "source": [
    "ต่อมาทำการเช็คตัวเลขทางสถิติในแต่ละ feature ว่าเป็นอย่างไรบ้าง"
   ]
  },
  {
   "cell_type": "code",
   "execution_count": 5,
   "metadata": {
    "scrolled": true
   },
   "outputs": [
    {
     "data": {
      "text/html": [
       "<div>\n",
       "<style scoped>\n",
       "    .dataframe tbody tr th:only-of-type {\n",
       "        vertical-align: middle;\n",
       "    }\n",
       "\n",
       "    .dataframe tbody tr th {\n",
       "        vertical-align: top;\n",
       "    }\n",
       "\n",
       "    .dataframe thead th {\n",
       "        text-align: right;\n",
       "    }\n",
       "</style>\n",
       "<table border=\"1\" class=\"dataframe\">\n",
       "  <thead>\n",
       "    <tr style=\"text-align: right;\">\n",
       "      <th></th>\n",
       "      <th>Avg. Area Income</th>\n",
       "      <th>Avg. Area House Age</th>\n",
       "      <th>Avg. Area Number of Rooms</th>\n",
       "      <th>Avg. Area Number of Bedrooms</th>\n",
       "      <th>Area Population</th>\n",
       "      <th>Price</th>\n",
       "    </tr>\n",
       "  </thead>\n",
       "  <tbody>\n",
       "    <tr>\n",
       "      <th>count</th>\n",
       "      <td>5000.000000</td>\n",
       "      <td>5000.000000</td>\n",
       "      <td>5000.000000</td>\n",
       "      <td>5000.000000</td>\n",
       "      <td>5000.000000</td>\n",
       "      <td>5.000000e+03</td>\n",
       "    </tr>\n",
       "    <tr>\n",
       "      <th>mean</th>\n",
       "      <td>68583.108984</td>\n",
       "      <td>5.977222</td>\n",
       "      <td>6.987792</td>\n",
       "      <td>3.981330</td>\n",
       "      <td>36163.516039</td>\n",
       "      <td>1.232073e+06</td>\n",
       "    </tr>\n",
       "    <tr>\n",
       "      <th>std</th>\n",
       "      <td>10657.991214</td>\n",
       "      <td>0.991456</td>\n",
       "      <td>1.005833</td>\n",
       "      <td>1.234137</td>\n",
       "      <td>9925.650114</td>\n",
       "      <td>3.531176e+05</td>\n",
       "    </tr>\n",
       "    <tr>\n",
       "      <th>min</th>\n",
       "      <td>17796.631190</td>\n",
       "      <td>2.644304</td>\n",
       "      <td>3.236194</td>\n",
       "      <td>2.000000</td>\n",
       "      <td>172.610686</td>\n",
       "      <td>1.593866e+04</td>\n",
       "    </tr>\n",
       "    <tr>\n",
       "      <th>25%</th>\n",
       "      <td>61480.562388</td>\n",
       "      <td>5.322283</td>\n",
       "      <td>6.299250</td>\n",
       "      <td>3.140000</td>\n",
       "      <td>29403.928702</td>\n",
       "      <td>9.975771e+05</td>\n",
       "    </tr>\n",
       "    <tr>\n",
       "      <th>50%</th>\n",
       "      <td>68804.286404</td>\n",
       "      <td>5.970429</td>\n",
       "      <td>7.002902</td>\n",
       "      <td>4.050000</td>\n",
       "      <td>36199.406689</td>\n",
       "      <td>1.232669e+06</td>\n",
       "    </tr>\n",
       "    <tr>\n",
       "      <th>75%</th>\n",
       "      <td>75783.338666</td>\n",
       "      <td>6.650808</td>\n",
       "      <td>7.665871</td>\n",
       "      <td>4.490000</td>\n",
       "      <td>42861.290769</td>\n",
       "      <td>1.471210e+06</td>\n",
       "    </tr>\n",
       "    <tr>\n",
       "      <th>max</th>\n",
       "      <td>107701.748378</td>\n",
       "      <td>9.519088</td>\n",
       "      <td>10.759588</td>\n",
       "      <td>6.500000</td>\n",
       "      <td>69621.713378</td>\n",
       "      <td>2.469066e+06</td>\n",
       "    </tr>\n",
       "  </tbody>\n",
       "</table>\n",
       "</div>"
      ],
      "text/plain": [
       "       Avg. Area Income  Avg. Area House Age  Avg. Area Number of Rooms  \\\n",
       "count       5000.000000          5000.000000                5000.000000   \n",
       "mean       68583.108984             5.977222                   6.987792   \n",
       "std        10657.991214             0.991456                   1.005833   \n",
       "min        17796.631190             2.644304                   3.236194   \n",
       "25%        61480.562388             5.322283                   6.299250   \n",
       "50%        68804.286404             5.970429                   7.002902   \n",
       "75%        75783.338666             6.650808                   7.665871   \n",
       "max       107701.748378             9.519088                  10.759588   \n",
       "\n",
       "       Avg. Area Number of Bedrooms  Area Population         Price  \n",
       "count                   5000.000000      5000.000000  5.000000e+03  \n",
       "mean                       3.981330     36163.516039  1.232073e+06  \n",
       "std                        1.234137      9925.650114  3.531176e+05  \n",
       "min                        2.000000       172.610686  1.593866e+04  \n",
       "25%                        3.140000     29403.928702  9.975771e+05  \n",
       "50%                        4.050000     36199.406689  1.232669e+06  \n",
       "75%                        4.490000     42861.290769  1.471210e+06  \n",
       "max                        6.500000     69621.713378  2.469066e+06  "
      ]
     },
     "execution_count": 5,
     "metadata": {},
     "output_type": "execute_result"
    }
   ],
   "source": [
    "house_df.describe()"
   ]
  },
  {
   "cell_type": "markdown",
   "metadata": {},
   "source": [
    "# Housing Prices Distribution"
   ]
  },
  {
   "cell_type": "markdown",
   "metadata": {},
   "source": [
    "ทำการ plot การกระจายของ feature Price\n",
    "\n",
    "และจากรูปแบบการกระจายด้านล่าง สามารถสรุปได้ว่า feature นี้ มีการกระจายแบบ Normal distribution ที่มีค่าเฉลี่ยคือ 1,232,073 และ ส่วนเบี่ยงเบนมาตรฐาน 353,117.6\n",
    "\n",
    "สามารถตีความอย่างง่ายได้ว่า การตั้งราคาขายของบ้านในสหรัฐอเมริกานั้นมักจะไม่ตั้งราคาผิดแปลก, สูงหรือต่ำเกินไปจากราคาที่คนส่วนใหญ่ตั้งราคากัน"
   ]
  },
  {
   "cell_type": "code",
   "execution_count": 6,
   "metadata": {},
   "outputs": [
    {
     "data": {
      "text/plain": [
       "<matplotlib.axes._subplots.AxesSubplot at 0x8552890>"
      ]
     },
     "execution_count": 6,
     "metadata": {},
     "output_type": "execute_result"
    },
    {
     "data": {
      "image/png": "[encoded data removed]",
      "text/plain": [
       "<matplotlib.figure.Figure at 0x8552110>"
      ]
     },
     "metadata": {},
     "output_type": "display_data"
    }
   ],
   "source": [
    "sns.set(style='darkgrid')\n",
    "sns.distplot(house_df['Price'])"
   ]
  },
  {
   "cell_type": "markdown",
   "metadata": {},
   "source": [
    "# Housing Prices Correlations"
   ]
  },
  {
   "cell_type": "markdown",
   "metadata": {},
   "source": [
    "สุดท้ายหาความสัมพันธ์ในรูปแบบของ Correlation ระหว่าง feature ต่างๆ เทียบกับ feature Price และทำการ visualize ออกมาในรูปของ heatmap \n",
    "\n",
    "โดยทำการตัด feature Address ทิ้งออกไป เนื่องจากเป็นข้อมูลแบบ Qualitative ยากต่อการนำไปวิเคราะห์หาความสัมพันธ์\n",
    "\n",
    "จาก heatmap ข้างล่างสามารถสรุปได้ว่า feature ที่มีผลต่อราคาขายบ้าน มากที่สุดคือ Avg. Area Income\n",
    "\n",
    "สามารถตีความอย่างง่ายได้ว่า ยิ่งผู้พักอาศัยมีรายได้เฉลี่ยมากเท่าไร ก็มีแนวโน้มที่จะซื้อบ้านราคาแพงขึ้นเท่านั้น"
   ]
  },
  {
   "cell_type": "code",
   "execution_count": 7,
   "metadata": {},
   "outputs": [
    {
     "data": {
      "text/plain": [
       "<matplotlib.axes._subplots.AxesSubplot at 0x87a3cd0>"
      ]
     },
     "execution_count": 7,
     "metadata": {},
     "output_type": "execute_result"
    },
    {
     "data": {
      "image/png": "[encoded data removed]",
      "text/plain": [
       "<matplotlib.figure.Figure at 0x85f3e10>"
      ]
     },
     "metadata": {},
     "output_type": "display_data"
    }
   ],
   "source": [
    "corr_price = pd.DataFrame(house_df.corr()['Price'], index=house_df.columns)\n",
    "plt.figure(figsize=(9, 6))\n",
    "sns.set(font_scale=1.3)\n",
    "sns.heatmap(corr_price.drop(['Price', 'Address']), annot=True)"
   ]
  },
  {
   "cell_type": "markdown",
   "metadata": {},
   "source": [
    "จากการวิเคราะห์ข้างต้นก็สามารถตอบคำถามในข้อแรกได้แล้ว ต่อมาเราจะมาหาคำตอบของคำถามข้อถัดมาคือ\n",
    "\n",
    "ถ้าเราต้องการซื้อบ้านหรือขายบ้านหลังหนึ่งในอเมริกา (โดยที่เราทราบรายละเอียดของบ้านทั้งหมด) เราจะตั้งราคาขายอย่างไรให้เหมาะสม?"
   ]
  },
  {
   "cell_type": "markdown",
   "metadata": {},
   "source": [
    "# Building Prediction Model using Linear Regression\n",
    "\n",
    "สำหรับส่วนถัดมาคือการสร้าง Model เพื่อ predict ราคาขายบ้าน หรือ feature Price นั่นเอง\n",
    "\n",
    "โดยจะ import library เพิ่มเติมอีกหนึ่งอัน ซึ่งก็คือ scikit-learn เป็น library ที่เกี่ยวกับการสร้าง machine learning เพื่อนำไปใช้สำหรับการ predict ข้อมูล http://scikit-learn.org/stable/\n",
    "\n",
    "สำหรับทำการ fit ข้อมูล จะใช้ algorithm ประเภท linear regression (https://en.wikipedia.org/wiki/Linear_regression) \n",
    "\n",
    "ซึ่งหลังจาก fit data เสร็จแล้ว ผลที่ได้ออกมาคือจะเป็นสมการเส้นตรงที่เป็นตัวแทนของ ราคาขายบ้าน นั่นเอง"
   ]
  },
  {
   "cell_type": "markdown",
   "metadata": {},
   "source": [
    "## Splitting Data\n",
    "\n",
    "ขั้นแรกทำการสร้าง Dataframe เป็น 2 อัน ชื่อว่า X และ y\n",
    "\n",
    "โดยที่ X ประกอบด้วย ทุก feature ยกเว้น feature Price ของฐานข้อมูล USA_Housing\n",
    "\n",
    "และ y มีเพียงแค่ feature Price ของฐานข้อมูล USA_Housing\n",
    "\n",
    "หลังจากนั้นทำการแบ่ง X และ y อีกเป็นอย่างละ 2 ชุดอย่างสุ่ม เพื่อนำไปใช้ train และ test model ต่อไป\n",
    "\n",
    "โดยจะแบ่งด้วยอัตราส่วนของข้อมูลดังนี้\n",
    "\n",
    "1. Training set 70% ของ (X,y) ทั้งหมด\n",
    "2. Testing set 30% ของ (X,y) ที่เหลือ"
   ]
  },
  {
   "cell_type": "code",
   "execution_count": 8,
   "metadata": {
    "collapsed": true
   },
   "outputs": [],
   "source": [
    "from sklearn.model_selection import train_test_split"
   ]
  },
  {
   "cell_type": "code",
   "execution_count": 9,
   "metadata": {
    "collapsed": true
   },
   "outputs": [],
   "source": [
    "X = house_df[['Avg. Area Income', 'Avg. Area House Age', 'Avg. Area Number of Rooms',\n",
    "               'Avg. Area Number of Bedrooms', 'Area Population']]\n",
    "y = house_df['Price']\n",
    "\n",
    "X_train, X_test, y_train, y_test = train_test_split(X, y, test_size=0.3, random_state=10)"
   ]
  },
  {
   "cell_type": "markdown",
   "metadata": {},
   "source": [
    "# Fitting Data\n",
    "\n",
    "ขั้นต่อมาทำการใช้ Training set เพื่อ fit data และ model ก็จะถูกสร้างออกมา"
   ]
  },
  {
   "cell_type": "code",
   "execution_count": 10,
   "metadata": {
    "collapsed": true
   },
   "outputs": [],
   "source": [
    "from sklearn.linear_model import LinearRegression"
   ]
  },
  {
   "cell_type": "code",
   "execution_count": 11,
   "metadata": {
    "collapsed": true
   },
   "outputs": [],
   "source": [
    "lm = LinearRegression()"
   ]
  },
  {
   "cell_type": "code",
   "execution_count": 12,
   "metadata": {},
   "outputs": [
    {
     "data": {
      "text/plain": [
       "LinearRegression(copy_X=True, fit_intercept=True, n_jobs=1, normalize=False)"
      ]
     },
     "execution_count": 12,
     "metadata": {},
     "output_type": "execute_result"
    }
   ],
   "source": [
    "lm.fit(X_train, y_train)"
   ]
  },
  {
   "cell_type": "markdown",
   "metadata": {},
   "source": [
    "# Interpreting the Model\n",
    "\n",
    "เมื่อได้ model ออกมาแล้ว ก็ทำการตีความ model จากข้อมูลด้านล่างออกมาได้ดังนี้\n",
    "\n",
    "- ให้ features อื่นๆ คงที่ แล้ว**เพิ่มAvg. Area Income** ขึ้น 1 หน่วย จะทำให้ Price **เพิ่มขึ้น \\$21.52 **.\n",
    "- ให้ features อื่นๆ คงที่ แล้ว**เพิ่มAvg. Area House Age** ขึ้น 1 หน่วย จะทำให้ Price **เพิ่มขึ้น \\$164883.28 **.\n",
    "- ให้ features อื่นๆ คงที่ แล้ว**เพิ่มAvg. Area Number of Rooms** ขึ้น 1 หน่วย จะทำให้ Price **เพิ่มขึ้น \\$122368.67 **.\n",
    "- ให้ features อื่นๆ คงที่ แล้ว**เพิ่มAvg. Area Number of Bedrooms** ขึ้น 1 หน่วย จะทำให้ Price **เพิ่มขึ้น \\$2233.80 **.\n",
    "- ให้ features อื่นๆ คงที่ แล้ว**เพิ่มArea Population** ขึ้น 1 หน่วย จะทำให้ Price **เพิ่มขึ้น \\$15.15 **."
   ]
  },
  {
   "cell_type": "code",
   "execution_count": 13,
   "metadata": {},
   "outputs": [
    {
     "data": {
      "text/html": [
       "<div>\n",
       "<style scoped>\n",
       "    .dataframe tbody tr th:only-of-type {\n",
       "        vertical-align: middle;\n",
       "    }\n",
       "\n",
       "    .dataframe tbody tr th {\n",
       "        vertical-align: top;\n",
       "    }\n",
       "\n",
       "    .dataframe thead th {\n",
       "        text-align: right;\n",
       "    }\n",
       "</style>\n",
       "<table border=\"1\" class=\"dataframe\">\n",
       "  <thead>\n",
       "    <tr style=\"text-align: right;\">\n",
       "      <th></th>\n",
       "      <th>Coefficient</th>\n",
       "    </tr>\n",
       "  </thead>\n",
       "  <tbody>\n",
       "    <tr>\n",
       "      <th>Avg. Area Income</th>\n",
       "      <td>21.598514</td>\n",
       "    </tr>\n",
       "    <tr>\n",
       "      <th>Avg. Area House Age</th>\n",
       "      <td>165641.393655</td>\n",
       "    </tr>\n",
       "    <tr>\n",
       "      <th>Avg. Area Number of Rooms</th>\n",
       "      <td>120514.980789</td>\n",
       "    </tr>\n",
       "    <tr>\n",
       "      <th>Avg. Area Number of Bedrooms</th>\n",
       "      <td>478.556603</td>\n",
       "    </tr>\n",
       "    <tr>\n",
       "      <th>Area Population</th>\n",
       "      <td>15.364537</td>\n",
       "    </tr>\n",
       "  </tbody>\n",
       "</table>\n",
       "</div>"
      ],
      "text/plain": [
       "                                Coefficient\n",
       "Avg. Area Income                  21.598514\n",
       "Avg. Area House Age           165641.393655\n",
       "Avg. Area Number of Rooms     120514.980789\n",
       "Avg. Area Number of Bedrooms     478.556603\n",
       "Area Population                   15.364537"
      ]
     },
     "execution_count": 13,
     "metadata": {},
     "output_type": "execute_result"
    }
   ],
   "source": [
    "coeff_df = pd.DataFrame(lm.coef_, X.columns, columns=['Coefficient'])\n",
    "coeff_df"
   ]
  },
  {
   "cell_type": "markdown",
   "metadata": {},
   "source": [
    "# Predictions from the Model\n",
    "\n",
    "หลังจากได้ model เรียบร้อยแล้วก็นำ Testing set มาใช้ให้ model ได้ลอง predict ออกมาดู เพื่อดูว่ามี error เกิดขึ้นมากน้อยแค่ไหน"
   ]
  },
  {
   "cell_type": "code",
   "execution_count": 14,
   "metadata": {
    "collapsed": true
   },
   "outputs": [],
   "source": [
    "pred = lm.predict(X_test)"
   ]
  },
  {
   "cell_type": "markdown",
   "metadata": {},
   "source": [
    "สร้าง Scatter plot ระหว่าง ค่าที่เก็บมาจริงๆ(แกน x) และค่าที่ predict ออกมาจาก model(แกน y)\n",
    "\n",
    "จะเห็นว่า ถ้าเราลากเส้นตรงที่เป็นตัวแทนของจุดบนกราฟข้างล่าง แล้วเส้นตรงนั้นมีความชันเข้าใกล้ 1 มากเท่าไร\n",
    "\n",
    "จากสมการ y = (slope)x ดังนั้น y = x  หมายความว่า model ของเราจะมีความแม่นยำสูงมากขึ้นเท่านั้น"
   ]
  },
  {
   "cell_type": "code",
   "execution_count": 15,
   "metadata": {},
   "outputs": [
    {
     "data": {
      "text/plain": [
       "<matplotlib.collections.PathCollection at 0x93ccbf0>"
      ]
     },
     "execution_count": 15,
     "metadata": {},
     "output_type": "execute_result"
    },
    {
     "data": {
      "image/png": "[encoded data removed]",
      "text/plain": [
       "<matplotlib.figure.Figure at 0x9384390>"
      ]
     },
     "metadata": {},
     "output_type": "display_data"
    }
   ],
   "source": [
    "plt.figure(figsize=(5, 5))\n",
    "plt.scatter(y_test,pred, s=4)"
   ]
  },
  {
   "cell_type": "markdown",
   "metadata": {},
   "source": [
    "สร้าง Distribution plot ของ Residual(Actual-Prediction) เพื่อดูลักษณะการกระจายของการ predict\n",
    "\n",
    "จะเห็นว่า error จากการ predict นั้น โดยเฉลี่ยเท่ากับ 0 นั่นคือ predict ได้แม่นยำตามค่า actual"
   ]
  },
  {
   "cell_type": "code",
   "execution_count": 16,
   "metadata": {},
   "outputs": [
    {
     "data": {
      "text/plain": [
       "<matplotlib.axes._subplots.AxesSubplot at 0x877b270>"
      ]
     },
     "execution_count": 16,
     "metadata": {},
     "output_type": "execute_result"
    },
    {
     "data": {
      "image/png": "[encoded data removed]",
      "text/plain": [
       "<matplotlib.figure.Figure at 0x93842d0>"
      ]
     },
     "metadata": {},
     "output_type": "display_data"
    }
   ],
   "source": [
    "sns.distplot((y_test-pred),bins=50)"
   ]
  },
  {
   "cell_type": "markdown",
   "metadata": {},
   "source": [
    "## Regression Evaluation Metrics\n",
    "\n",
    "ขออ้างอิงจากบทเรียน Python for Data Science and Machine Learning Bootcamp ถึงความหมายของตัวชี้วัด model\n",
    "\n",
    "**Mean Absolute Error** (MAE) is the mean of the absolute value of the errors:\n",
    "\n",
    "$$\\frac 1n\\sum_{i=1}^n|y_i-\\hat{y}_i|$$\n",
    "\n",
    "**Mean Squared Error** (MSE) is the mean of the squared errors:\n",
    "\n",
    "$$\\frac 1n\\sum_{i=1}^n(y_i-\\hat{y}_i)^2$$\n",
    "\n",
    "**Root Mean Squared Error** (RMSE) is the square root of the mean of the squared errors:\n",
    "\n",
    "$$\\sqrt{\\frac 1n\\sum_{i=1}^n(y_i-\\hat{y}_i)^2}$$\n",
    "\n",
    "สำหรับข้อแตกต่างของแต่ละตัวนั่นคือ\n",
    "\n",
    "- **MAE** เข้าใจได้ง่ายที่สุด เพราะเอา error ของแต่ละตัว มาหาค่าเฉลี่ยทั้งหมด\n",
    "- **MSE** ถูกใช้งานเยอะกว่าตัวแรก โดยจะคล้ายๆกับ MAE แต่จะ take กำลัง2 เข้าไปในแต่ละ error ซึ่ง model ไหนที่ predict ห่างจากค่า actual มากๆและบ่อยๆ จะทำให้ค่าจากตัวชี้วัดนี้สูงมากๆ\n",
    "- **RMSE** ถูกใช้งานเยอะกว่า MSE เพราะเมื่อนำเอา MSE ใส่ Square root แล้วจะสามารถตีความเป็นหน่วยเดียวกับที่ predict ได้เลย"
   ]
  },
  {
   "cell_type": "code",
   "execution_count": 17,
   "metadata": {
    "collapsed": true
   },
   "outputs": [],
   "source": [
    "from sklearn import metrics"
   ]
  },
  {
   "cell_type": "code",
   "execution_count": 19,
   "metadata": {},
   "outputs": [
    {
     "name": "stdout",
     "output_type": "stream",
     "text": [
      "MAE: 81349.240919\n",
      "MSE: 10408992254.1\n",
      "RMSE: 102024.468899\n"
     ]
    }
   ],
   "source": [
    "print('MAE:', metrics.mean_absolute_error(y_test, pred))\n",
    "print('MSE:', metrics.mean_squared_error(y_test, pred))\n",
    "import numpy as np\n",
    "print('RMSE:', np.sqrt(metrics.mean_squared_error(y_test, pred)))"
   ]
  },
  {
   "cell_type": "markdown",
   "metadata": {},
   "source": [
    "ทั้งหมดนี้คือ **loss functions** ที่เราควรจะต้องทำให้มีค่าน้อยที่สุด เพื่อทำให้ model ของเรามีประสิทธิภาพมากขึ้น"
   ]
  }
 ],
 "metadata": {
  "kernelspec": {
   "display_name": "Python 3",
   "language": "python",
   "name": "python3"
  },
  "language_info": {
   "codemirror_mode": {
    "name": "ipython",
    "version": 3
   },
   "file_extension": ".py",
   "mimetype": "text/x-python",
   "name": "python",
   "nbconvert_exporter": "python",
   "pygments_lexer": "ipython3",
   "version": "3.6.3"
  }
 },
 "nbformat": 4,
 "nbformat_minor": 2
}
